{
  "nbformat": 4,
  "nbformat_minor": 0,
  "metadata": {
    "colab": {
      "name": "TASK 9.ipynb",
      "provenance": []
    },
    "kernelspec": {
      "name": "python3",
      "display_name": "Python 3"
    },
    "language_info": {
      "name": "python"
    }
  },
  "cells": [
    {
      "cell_type": "markdown",
      "metadata": {
        "id": "CBOQ3rFElEb0"
      },
      "source": [
        "1. Create an 4x4 array containing the values ranging from 0 - 15 (use arange function). Then ,\n",
        "  \n",
        "  a) split it equally along horizontal.\n",
        "\n",
        "  b) split it as 4 parts vertically.\n",
        "\n"
      ]
    },
    {
      "cell_type": "code",
      "metadata": {
        "id": "pKy4fjS_m3XD",
        "outputId": "50250d51-cbc2-440f-e943-a6c4655a3974",
        "colab": {
          "base_uri": "https://localhost:8080/"
        }
      },
      "source": [
        "#please provide your answer below this line\n",
        "import numpy as np\n",
        "a = np.arange(0,16).reshape(4,4)\n",
        "print(np.hsplit(a,2))\n",
        "print(np.vsplit(a,4))"
      ],
      "execution_count": 11,
      "outputs": [
        {
          "output_type": "stream",
          "text": [
            "[array([[ 0,  1],\n",
            "       [ 4,  5],\n",
            "       [ 8,  9],\n",
            "       [12, 13]]), array([[ 2,  3],\n",
            "       [ 6,  7],\n",
            "       [10, 11],\n",
            "       [14, 15]])]\n",
            "[array([[0, 1, 2, 3]]), array([[4, 5, 6, 7]]), array([[ 8,  9, 10, 11]]), array([[12, 13, 14, 15]])]\n"
          ],
          "name": "stdout"
        }
      ]
    },
    {
      "cell_type": "markdown",
      "metadata": {
        "id": "ORtqWRAeoMvn"
      },
      "source": [
        "2. Create a 3x3 matrix using random module and then,\n",
        "\n",
        "  a) Find the ceil of the matrix.\n",
        "  \n",
        "  b) Find the floor of the matrix."
      ]
    },
    {
      "cell_type": "code",
      "metadata": {
        "id": "kt_CO_v9qpU-",
        "outputId": "6a30bf8f-6823-4d13-8f3c-69ab191302af",
        "colab": {
          "base_uri": "https://localhost:8080/"
        }
      },
      "source": [
        "#please provide your answer below this line\n",
        "import numpy as np\n",
        "a= np.random.rand(3,3)\n",
        "print(\" matrix\")\n",
        "print(a)\n",
        "print(\"Ceil of matrix\")\n",
        "print(np.ceil(a))\n",
        "print(\"Floor of matrix\")\n",
        "print(np.floor(a))"
      ],
      "execution_count": 22,
      "outputs": [
        {
          "output_type": "stream",
          "text": [
            " matrix\n",
            "[[0.16733509 0.49790453 0.52656224]\n",
            " [0.52420504 0.71674891 0.26747309]\n",
            " [0.3361943  0.99806411 0.32440023]]\n",
            "Ceil of matrix\n",
            "[[1. 1. 1.]\n",
            " [1. 1. 1.]\n",
            " [1. 1. 1.]]\n",
            "Floor of matrix\n",
            "[[0. 0. 0.]\n",
            " [0. 0. 0.]\n",
            " [0. 0. 0.]]\n"
          ],
          "name": "stdout"
        }
      ]
    },
    {
      "cell_type": "markdown",
      "metadata": {
        "id": "oln9t19WqzBb"
      },
      "source": [
        "3. Create a random 1x4 array and print the random array and its shape.\n",
        "    \n",
        "      (use the shape function for finding the shape & use the same random we created here for both the below operations.)\n",
        "\n",
        "  a) Squeeze the random array and print the squeezed array and its shape.\n",
        "  b) Expand the random array by one axis and print the expanded array and its shape."
      ]
    },
    {
      "cell_type": "code",
      "metadata": {
        "id": "cbGGwRo3vpVX",
        "outputId": "4995d0b6-d0d8-4bf0-fb51-a5a0b27ffdc8",
        "colab": {
          "base_uri": "https://localhost:8080/"
        }
      },
      "source": [
        "#please provide your answer below this line.\n",
        "import numpy as np\n",
        "a = np.random.rand(1,4)\n",
        "print(\"Array = \")\n",
        "print(a)\n",
        "print(\"Shape Of array\")\n",
        "print(np.shape(a))\n",
        "print(\"Squeezed Array\")\n",
        "sq = np.squeeze(a)\n",
        "print(sq)\n",
        "print(\"Shape of Squeezed Array\")\n",
        "print(np.shape(sq))\n",
        "ex = np.expand_dims(sq,axis=0)\n",
        "print(\"Expanded Array\")\n",
        "print(ex)\n",
        "print(\"Shape of the Expanded Array\")\n",
        "print(np.shape(ex))"
      ],
      "execution_count": 50,
      "outputs": [
        {
          "output_type": "stream",
          "text": [
            "Array = \n",
            "[[0.30090777 0.58582219 0.23811173 0.74815407]]\n",
            "Shape Of array\n",
            "(1, 4)\n",
            "Squeezed Array\n",
            "[0.30090777 0.58582219 0.23811173 0.74815407]\n",
            "Shape of Squeezed Array\n",
            "(4,)\n",
            "Expanded Array\n",
            "[[0.30090777 0.58582219 0.23811173 0.74815407]]\n",
            "Shape of the Expanded Array\n",
            "(1, 4)\n"
          ],
          "name": "stdout"
        }
      ]
    }
  ]
}