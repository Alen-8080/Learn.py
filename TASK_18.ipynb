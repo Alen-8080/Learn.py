{
  "nbformat": 4,
  "nbformat_minor": 0,
  "metadata": {
    "colab": {
      "name": "TASK 18.ipynb",
      "provenance": [],
      "include_colab_link": true
    },
    "kernelspec": {
      "name": "python3",
      "display_name": "Python 3"
    },
    "language_info": {
      "name": "python"
    }
  },
  "cells": [
    {
      "cell_type": "markdown",
      "metadata": {
        "id": "view-in-github",
        "colab_type": "text"
      },
      "source": [
        "<a href=\"https://colab.research.google.com/github/Alen-8080/Learn.py/blob/main/TASK_18.ipynb\" target=\"_parent\"><img src=\"https://colab.research.google.com/assets/colab-badge.svg\" alt=\"Open In Colab\"/></a>"
      ]
    },
    {
      "cell_type": "markdown",
      "metadata": {
        "id": "_JgXT8pEAjU4"
      },
      "source": [
        "1. \n",
        "Create a DataFrame by passing a random numpy array,with a datetie index and labelled columns.and,\n",
        "    - slice its first three rows and display.\n",
        "    - slice its odd indexed rows.\n",
        "    - display the dates from 1st postion to 4 th position."
      ]
    },
    {
      "cell_type": "code",
      "metadata": {
        "id": "5zFM5VOJBKBV",
        "outputId": "c304ec02-d626-4f15-d855-b65394e51815",
        "colab": {
          "base_uri": "https://localhost:8080/"
        }
      },
      "source": [
        "#please provide your answer below this line.\n",
        "import numpy as np\n",
        "import pandas as pd\n",
        "dates = pd.date_range('20210829', periods=6)\n",
        "\n",
        "df = pd.DataFrame(np.random.randn(6, 4), index=dates, columns=list('ABCD'))\n",
        "\n",
        "print(\"DataFrame:\")\n",
        "print(df)\n",
        "print(\"\\n\")\n",
        "\n",
        "print(\"First three  rows: \")\n",
        "print(df.loc[['2021-08-29', '2021-08-30', '2021-08-31']])\n",
        "print(\"\\n\")\n",
        "\n",
        "print(\"odd indexed rows:\")\n",
        "print(df.iloc[1::2])\n",
        "print(\"\\n\")\n",
        "\n",
        "print(\"Dates from 1 to 4 th position:\")\n",
        "print(df.iloc[1:5])"
      ],
      "execution_count": 13,
      "outputs": [
        {
          "output_type": "stream",
          "name": "stdout",
          "text": [
            "DataFrame:\n",
            "                   A         B         C         D\n",
            "2021-08-29 -0.321113 -0.853000 -1.078008  1.727180\n",
            "2021-08-30 -1.328064 -1.975412 -0.433833 -1.750143\n",
            "2021-08-31  1.352591 -0.262030  1.200541 -1.780015\n",
            "2021-09-01 -0.383135 -0.353028 -1.581223  0.249090\n",
            "2021-09-02 -0.742632  1.037249  1.132408  0.006221\n",
            "2021-09-03  0.114569  0.392946  0.436930  0.534125\n",
            "\n",
            "\n",
            "First three  rows: \n",
            "                   A         B         C         D\n",
            "2021-08-29 -0.321113 -0.853000 -1.078008  1.727180\n",
            "2021-08-30 -1.328064 -1.975412 -0.433833 -1.750143\n",
            "2021-08-31  1.352591 -0.262030  1.200541 -1.780015\n",
            "\n",
            "\n",
            "odd indexed rows:\n",
            "                   A         B         C         D\n",
            "2021-08-30 -1.328064 -1.975412 -0.433833 -1.750143\n",
            "2021-09-01 -0.383135 -0.353028 -1.581223  0.249090\n",
            "2021-09-03  0.114569  0.392946  0.436930  0.534125\n",
            "\n",
            "\n",
            "Dates from 1 to 4 th position:\n",
            "                   A         B         C         D\n",
            "2021-08-30 -1.328064 -1.975412 -0.433833 -1.750143\n",
            "2021-08-31  1.352591 -0.262030  1.200541 -1.780015\n",
            "2021-09-01 -0.383135 -0.353028 -1.581223  0.249090\n",
            "2021-09-02 -0.742632  1.037249  1.132408  0.006221\n"
          ]
        }
      ]
    },
    {
      "cell_type": "markdown",
      "metadata": {
        "id": "QuoucvjxBPmX"
      },
      "source": [
        "2. Create a DataFrame by passing a random numpy array,with a datetie index and labelled columns.and\n",
        "  - Dislplay the index from the 1 to 3 date and the columns A and B of respective data.\n",
        "  - Display the datas at the 3rd index.\n",
        "  - Display datas from 2nd to 5th.\n",
        "  - Display the datas from the index 1,2,4 and the column 0 and 2."
      ]
    },
    {
      "cell_type": "code",
      "metadata": {
        "id": "qV_wzsp1DUKI",
        "outputId": "1c32649f-6981-4a70-bb15-92f6cc0340e4",
        "colab": {
          "base_uri": "https://localhost:8080/"
        }
      },
      "source": [
        "#please provide your answer below thins line.\n",
        "import numpy as np\n",
        "import pandas as pd\n",
        "dates = pd.date_range('20210829', periods=6)\n",
        "\n",
        "df = pd.DataFrame(np.random.randn(6, 4), index=dates, columns=list('ABCD'))\n",
        "print(\"DataFrame:\")\n",
        "print(df)\n",
        "print(\"\\n\")\n",
        "print(\"index from 1-3 dates and A and B columns :\")\n",
        "print(df.iloc[1:4,0:2])\n",
        "\n",
        "print(\"\\n\")\n",
        "print(\"Data at 3rd index:\")\n",
        "print(df.iloc[3,0:4])\n",
        "\n",
        "print(\"\\n\")\n",
        "print(\"Datas from 2-5th:\")\n",
        "print(df.iloc[2:6,0:4])\n",
        "\n",
        "print(\"\\n\")\n",
        "print(\"Datas from the index 1,2,4 and the column 0 and 2: \")\n",
        "print(df.iloc[0:6:2,0:3:2])"
      ],
      "execution_count": 21,
      "outputs": [
        {
          "output_type": "stream",
          "name": "stdout",
          "text": [
            "DataFrame:\n",
            "                   A         B         C         D\n",
            "2021-08-29 -1.308238  0.219985  0.970538  1.390719\n",
            "2021-08-30 -0.127582  1.061413 -0.308886 -0.612741\n",
            "2021-08-31  0.625075  0.210781 -2.171548 -0.299458\n",
            "2021-09-01 -1.581970  0.617963  0.518499 -0.514559\n",
            "2021-09-02 -0.392664 -0.711961  1.094631  1.211377\n",
            "2021-09-03 -0.775520  0.706265 -1.079295 -0.225184\n",
            "\n",
            "\n",
            "index from 1-3 dates and A and B columns :\n",
            "                   A         B\n",
            "2021-08-30 -0.127582  1.061413\n",
            "2021-08-31  0.625075  0.210781\n",
            "2021-09-01 -1.581970  0.617963\n",
            "\n",
            "\n",
            "Data at 3rd index:\n",
            "A   -1.581970\n",
            "B    0.617963\n",
            "C    0.518499\n",
            "D   -0.514559\n",
            "Name: 2021-09-01 00:00:00, dtype: float64\n",
            "\n",
            "\n",
            "Datas from 2-5th:\n",
            "                   A         B         C         D\n",
            "2021-08-31  0.625075  0.210781 -2.171548 -0.299458\n",
            "2021-09-01 -1.581970  0.617963  0.518499 -0.514559\n",
            "2021-09-02 -0.392664 -0.711961  1.094631  1.211377\n",
            "2021-09-03 -0.775520  0.706265 -1.079295 -0.225184\n",
            "\n",
            "\n",
            "Datas from the index 1,2,4 and the column 0 and 2: \n",
            "                   A         C\n",
            "2021-08-29 -1.308238  0.970538\n",
            "2021-08-31  0.625075 -2.171548\n",
            "2021-09-02 -0.392664  1.094631\n"
          ]
        }
      ]
    }
  ]
}