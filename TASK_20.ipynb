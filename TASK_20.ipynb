{
  "nbformat": 4,
  "nbformat_minor": 0,
  "metadata": {
    "colab": {
      "name": "TASK 20.ipynb",
      "provenance": [],
      "include_colab_link": true
    },
    "kernelspec": {
      "name": "python3",
      "display_name": "Python 3"
    },
    "language_info": {
      "name": "python"
    }
  },
  "cells": [
    {
      "cell_type": "markdown",
      "metadata": {
        "id": "view-in-github",
        "colab_type": "text"
      },
      "source": [
        "<a href=\"https://colab.research.google.com/github/Alen-8080/Learn.py/blob/main/TASK_20.ipynb\" target=\"_parent\"><img src=\"https://colab.research.google.com/assets/colab-badge.svg\" alt=\"Open In Colab\"/></a>"
      ]
    },
    {
      "cell_type": "markdown",
      "metadata": {
        "id": "8LIfdcjDWmC3"
      },
      "source": [
        "1. In the data given below,\n",
        "  - find the boolean mask where value is nan\n",
        "  - remove the row with missing data.\n"
      ]
    },
    {
      "cell_type": "markdown",
      "metadata": {
        "id": "VPCGISRTbYPz"
      },
      "source": [
        ""
      ]
    },
    {
      "cell_type": "code",
      "metadata": {
        "colab": {
          "base_uri": "https://localhost:8080/"
        },
        "id": "VsZQYRqXXHpG",
        "outputId": "fb5aacb3-21f1-4198-e59c-dbb8fc40d88d"
      },
      "source": [
        "import pandas as pd\n",
        "import numpy as np\n",
        "dates = pd.date_range('20210101',periods=6)\n",
        "df = pd.DataFrame(np.random.randn(6,4), index=dates,columns=list('ABCD'))\n",
        "s1 = pd.Series([1,2,3,4,5,6], index=pd.date_range('20130102', periods=6))\n",
        "df[\"F\"]=s1\n",
        "df1=df.reindex(index=dates[0:4], columns=list(df.columns) + ['E'])\n",
        "df1.loc[dates[0]:dates[1],'E'] = 1\n",
        "df1\n",
        "#please provide your answer below this line\n",
        "print(\"The boolean mask where value is nan:\")\n",
        "print(df.isnull())\n",
        "#print(df.isnull().sum())\n",
        "print(\"\\n\")\n",
        "print(\"Data frame with null values removed:\")\n",
        "print(df.dropna(how='all', axis=1))"
      ],
      "execution_count": 14,
      "outputs": [
        {
          "output_type": "stream",
          "name": "stdout",
          "text": [
            "The boolean mask where value is nan:\n",
            "                A      B      C      D     F\n",
            "2021-01-01  False  False  False  False  True\n",
            "2021-01-02  False  False  False  False  True\n",
            "2021-01-03  False  False  False  False  True\n",
            "2021-01-04  False  False  False  False  True\n",
            "2021-01-05  False  False  False  False  True\n",
            "2021-01-06  False  False  False  False  True\n",
            "\n",
            "\n",
            "Data frame with null values removed:\n",
            "                   A         B         C         D\n",
            "2021-01-01 -0.400497  0.101366  1.131442 -0.063782\n",
            "2021-01-02 -1.431416 -1.866851 -0.936509  0.890501\n",
            "2021-01-03 -1.400874  0.246741  0.412707 -0.872957\n",
            "2021-01-04 -0.530271  1.269006  1.444206 -0.285505\n",
            "2021-01-05 -1.237627 -0.329873 -0.055931  0.366261\n",
            "2021-01-06  0.383850 -1.103629 -0.248931  0.782720\n"
          ]
        }
      ]
    },
    {
      "cell_type": "markdown",
      "metadata": {
        "id": "z1sv0aluZhcd"
      },
      "source": [
        "2. In the data given below,fill the missing data with 20."
      ]
    },
    {
      "cell_type": "code",
      "metadata": {
        "colab": {
          "base_uri": "https://localhost:8080/"
        },
        "id": "x3ZHFCeyZ0j2",
        "outputId": "c5ed6c19-1443-4c9e-e3a3-585feffa6c3e"
      },
      "source": [
        "import pandas as pd\n",
        "import numpy as np\n",
        "dates = pd.date_range('20210101',periods=6)\n",
        "df = pd.DataFrame(np.random.randn(6,4), index=dates,columns=list('ABCD'))\n",
        "s1 = pd.Series([1,2,3,4,5,6], index=pd.date_range('20130102', periods=6))\n",
        "df[\"F\"]=s1\n",
        "df1=df.reindex(index=dates[0:4], columns=list(df.columns) + ['E'])\n",
        "df1.loc[dates[0]:dates[1],'E'] = 1\n",
        "df1\n",
        "#please provide your answer below this line\n",
        "print(\"Data frame with null values: \")\n",
        "print(df)\n",
        "print(\"\\n\")\n",
        "print(\"Data frame with null values replaced with 20: \")\n",
        "print(df.replace(to_replace=np.nan, value=20))"
      ],
      "execution_count": 17,
      "outputs": [
        {
          "output_type": "stream",
          "name": "stdout",
          "text": [
            "Data frame with null values: \n",
            "                   A         B         C         D   F\n",
            "2021-01-01  1.334445 -1.663994 -0.828733 -0.971749 NaN\n",
            "2021-01-02 -1.167899 -0.197165 -1.384758  1.094411 NaN\n",
            "2021-01-03 -0.420580 -0.182516 -0.192983 -0.369251 NaN\n",
            "2021-01-04 -0.837980  0.058681  0.857411  1.093057 NaN\n",
            "2021-01-05 -0.955520 -0.311998 -0.106525 -0.049505 NaN\n",
            "2021-01-06 -0.053660 -0.568305  1.799422  0.955054 NaN\n",
            "\n",
            "\n",
            "Data frame with null values replaced with 20: \n",
            "                   A         B         C         D     F\n",
            "2021-01-01  1.334445 -1.663994 -0.828733 -0.971749  20.0\n",
            "2021-01-02 -1.167899 -0.197165 -1.384758  1.094411  20.0\n",
            "2021-01-03 -0.420580 -0.182516 -0.192983 -0.369251  20.0\n",
            "2021-01-04 -0.837980  0.058681  0.857411  1.093057  20.0\n",
            "2021-01-05 -0.955520 -0.311998 -0.106525 -0.049505  20.0\n",
            "2021-01-06 -0.053660 -0.568305  1.799422  0.955054  20.0\n"
          ]
        }
      ]
    },
    {
      "cell_type": "markdown",
      "metadata": {
        "id": "vMzwvpxcZ3G8"
      },
      "source": [
        "3. From the data given below,\n",
        "  - break the data in to pieces from 0 t0 2 ,3 t0 7\n",
        "  - concatenate the pieces.\n",
        "  - concatenate the pieces along axis 1\n",
        "  - label each as 'a' and 'b' respectively and perform concatenation."
      ]
    },
    {
      "cell_type": "code",
      "metadata": {
        "colab": {
          "base_uri": "https://localhost:8080/"
        },
        "id": "LxGwKPTVbbXV",
        "outputId": "280488e7-8299-42d9-a58c-c0bb797a511e"
      },
      "source": [
        "import pandas as pd\n",
        "import numpy as np\n",
        "df = pd.DataFrame(np.random.randn(10, 4))\n",
        "df\n",
        "#please provide your answer below this line\n",
        "a = df.iloc[0:3]\n",
        "b = df.iloc[3:8]\n",
        "print(\"From 0 to 2:\")\n",
        "print(a)\n",
        "print(\"\\n\")\n",
        "\n",
        "print(\"From 3 to 7:\")\n",
        "print(b)\n",
        "print(\"\\n\")\n",
        "\n",
        "print(\"concated dataframe:\")\n",
        "c = pd.concat([a,b])\n",
        "print(c)\n",
        "\n",
        "d = pd.concat([a,b], axis=1)\n",
        "print(\"\\n\")\n",
        "print(\"along axis =1\")\n",
        "print(d)"
      ],
      "execution_count": 25,
      "outputs": [
        {
          "output_type": "stream",
          "name": "stdout",
          "text": [
            "From 0 to 2:\n",
            "          0         1         2         3\n",
            "0  0.109617 -0.139575 -0.035410  1.983618\n",
            "1 -1.054462  0.047134  0.797864 -0.393064\n",
            "2 -0.163170 -0.638014 -1.803892  0.241579\n",
            "\n",
            "\n",
            "From 3 to 7:\n",
            "          0         1         2         3\n",
            "3 -0.655706  1.204040 -0.595415 -1.263163\n",
            "4 -1.013828  0.858212 -0.249039  0.785762\n",
            "5 -1.495736  1.693265  1.071120 -1.127725\n",
            "6 -0.122124  1.184595  1.081497 -1.410834\n",
            "7 -0.623483  1.406604 -0.489712  0.892789\n",
            "\n",
            "\n",
            "concated dataframe:\n",
            "          0         1         2         3\n",
            "0  0.109617 -0.139575 -0.035410  1.983618\n",
            "1 -1.054462  0.047134  0.797864 -0.393064\n",
            "2 -0.163170 -0.638014 -1.803892  0.241579\n",
            "3 -0.655706  1.204040 -0.595415 -1.263163\n",
            "4 -1.013828  0.858212 -0.249039  0.785762\n",
            "5 -1.495736  1.693265  1.071120 -1.127725\n",
            "6 -0.122124  1.184595  1.081497 -1.410834\n",
            "7 -0.623483  1.406604 -0.489712  0.892789\n",
            "\n",
            "\n",
            "along axis =1\n",
            "          0         1         2  ...         1         2         3\n",
            "0  0.109617 -0.139575 -0.035410  ...       NaN       NaN       NaN\n",
            "1 -1.054462  0.047134  0.797864  ...       NaN       NaN       NaN\n",
            "2 -0.163170 -0.638014 -1.803892  ...       NaN       NaN       NaN\n",
            "3       NaN       NaN       NaN  ...  1.204040 -0.595415 -1.263163\n",
            "4       NaN       NaN       NaN  ...  0.858212 -0.249039  0.785762\n",
            "5       NaN       NaN       NaN  ...  1.693265  1.071120 -1.127725\n",
            "6       NaN       NaN       NaN  ...  1.184595  1.081497 -1.410834\n",
            "7       NaN       NaN       NaN  ...  1.406604 -0.489712  0.892789\n",
            "\n",
            "[8 rows x 8 columns]\n"
          ]
        }
      ]
    },
    {
      "cell_type": "code",
      "metadata": {
        "id": "h290MAgudPQI"
      },
      "source": [
        ""
      ],
      "execution_count": null,
      "outputs": []
    }
  ]
}