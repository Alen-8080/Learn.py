{
  "nbformat": 4,
  "nbformat_minor": 0,
  "metadata": {
    "colab": {
      "name": "TASK 17.ipynb",
      "provenance": [],
      "include_colab_link": true
    },
    "kernelspec": {
      "name": "python3",
      "display_name": "Python 3"
    },
    "language_info": {
      "name": "python"
    }
  },
  "cells": [
    {
      "cell_type": "markdown",
      "metadata": {
        "id": "view-in-github",
        "colab_type": "text"
      },
      "source": [
        "<a href=\"https://colab.research.google.com/github/Alen-8080/Learn.py/blob/main/TASK_17.ipynb\" target=\"_parent\"><img src=\"https://colab.research.google.com/assets/colab-badge.svg\" alt=\"Open In Colab\"/></a>"
      ]
    },
    {
      "cell_type": "markdown",
      "metadata": {
        "id": "0SLapvpoaeYY"
      },
      "source": [
        "1. Create a DataFrame by passing a random numpy array,with a datetie index and labelled columns.and display its,\n",
        "     - Head\n",
        "     - Tail\n",
        "     - Index \n",
        "     - Columns\n",
        "     - Values\n",
        "     - statistics\n"
      ]
    },
    {
      "cell_type": "code",
      "metadata": {
        "id": "zJDkjyVxa5yU",
        "outputId": "9e894a14-2041-4568-f8f7-67104216501e",
        "colab": {
          "base_uri": "https://localhost:8080/"
        }
      },
      "source": [
        "#please type your answer below this line.\n",
        "import numpy as np\n",
        "import pandas as pd\n",
        "\n",
        "date = pd.date_range('20200101', periods = 5)\n",
        "frame = pd.DataFrame(np.random.randn(5,4), index=date , columns=list('ABCD'))\n",
        "print(\"Data frame \")\n",
        "print(frame)\n",
        "print(\"\\nHead :\")\n",
        "print(frame.head)\n",
        "print(\"\\nTail:\")\n",
        "print(frame.tail(4))\n",
        "print(\"\\nIndex :\")\n",
        "print(frame.index.values)\n",
        "print(\"\\nColumns:\")\n",
        "print(list (frame.columns.values))\n",
        "print(\"\\nValues: \")\n",
        "print(frame.values)"
      ],
      "execution_count": 36,
      "outputs": [
        {
          "output_type": "stream",
          "text": [
            "Data frame \n",
            "                   A         B         C         D\n",
            "2020-01-01 -2.400306  0.047758 -0.007455 -0.011889\n",
            "2020-01-02  1.251751  1.257338  0.882442 -0.274864\n",
            "2020-01-03 -0.620789  0.925592  0.729081 -1.592153\n",
            "2020-01-04  1.233498 -0.041457 -0.509971 -0.845605\n",
            "2020-01-05  0.977473 -0.016625  0.073754  0.892414\n",
            "\n",
            "Head :\n",
            "<bound method NDFrame.head of                    A         B         C         D\n",
            "2020-01-01 -2.400306  0.047758 -0.007455 -0.011889\n",
            "2020-01-02  1.251751  1.257338  0.882442 -0.274864\n",
            "2020-01-03 -0.620789  0.925592  0.729081 -1.592153\n",
            "2020-01-04  1.233498 -0.041457 -0.509971 -0.845605\n",
            "2020-01-05  0.977473 -0.016625  0.073754  0.892414>\n",
            "\n",
            "Tail:\n",
            "                   A         B         C         D\n",
            "2020-01-02  1.251751  1.257338  0.882442 -0.274864\n",
            "2020-01-03 -0.620789  0.925592  0.729081 -1.592153\n",
            "2020-01-04  1.233498 -0.041457 -0.509971 -0.845605\n",
            "2020-01-05  0.977473 -0.016625  0.073754  0.892414\n",
            "\n",
            "Index :\n",
            "['2020-01-01T00:00:00.000000000' '2020-01-02T00:00:00.000000000'\n",
            " '2020-01-03T00:00:00.000000000' '2020-01-04T00:00:00.000000000'\n",
            " '2020-01-05T00:00:00.000000000']\n",
            "\n",
            "Columns:\n",
            "['A', 'B', 'C', 'D']\n",
            "\n",
            "Values: \n",
            "[[-2.4003063   0.04775763 -0.00745489 -0.01188935]\n",
            " [ 1.25175058  1.25733834  0.88244213 -0.27486388]\n",
            " [-0.62078851  0.92559235  0.72908124 -1.59215269]\n",
            " [ 1.23349813 -0.04145693 -0.50997135 -0.84560477]\n",
            " [ 0.9774735  -0.0166254   0.07375368  0.89241445]]\n"
          ],
          "name": "stdout"
        }
      ]
    },
    {
      "cell_type": "markdown",
      "metadata": {
        "id": "xnkA2mKDdyoO"
      },
      "source": [
        "2. Use the above table and,\n",
        "      - find transpose of your data.\n",
        "      - sort the index in the descending order of the date."
      ]
    },
    {
      "cell_type": "code",
      "metadata": {
        "id": "uqcQSEOufJ5P",
        "outputId": "3ee519be-951c-4fb3-caba-10e5311e437d",
        "colab": {
          "base_uri": "https://localhost:8080/"
        }
      },
      "source": [
        "#please provide your answer below this line.\n",
        "import numpy as np\n",
        "import pandas as pd\n",
        "\n",
        "date = pd.date_range('20200101', periods = 5)\n",
        "frame = pd.DataFrame(np.random.randn(5,4), index=date , columns=list('ABCD'))\n",
        "print(\"Data frame \")\n",
        "print(frame)\n",
        "print(\"\\nTranspose of Data Frame :\")\n",
        "print(frame.transpose())\n",
        "print(frame.sort_values(by='date', axis=0, ascending=False))"
      ],
      "execution_count": 50,
      "outputs": [
        {
          "output_type": "stream",
          "text": [
            "Data frame \n",
            "                   A         B         C         D\n",
            "2020-01-01  0.904091  1.445243  0.601225  0.793428\n",
            "2020-01-02 -0.903809  0.835349  0.934175  0.828117\n",
            "2020-01-03 -0.364360 -1.149991  0.602812 -1.412134\n",
            "2020-01-04 -0.703588  0.508189  1.004855  0.547518\n",
            "2020-01-05  0.024469  0.553951  1.124843  0.397488\n",
            "\n",
            "Transpose of Data Frame :\n",
            "   2020-01-01  2020-01-02  2020-01-03  2020-01-04  2020-01-05\n",
            "A    0.904091   -0.903809   -0.364360   -0.703588    0.024469\n",
            "B    1.445243    0.835349   -1.149991    0.508189    0.553951\n",
            "C    0.601225    0.934175    0.602812    1.004855    1.124843\n",
            "D    0.793428    0.828117   -1.412134    0.547518    0.397488\n"
          ],
          "name": "stdout"
        }
      ]
    },
    {
      "cell_type": "markdown",
      "metadata": {
        "id": "ss7s_8iDbAcL"
      },
      "source": [
        ""
      ]
    }
  ]
}