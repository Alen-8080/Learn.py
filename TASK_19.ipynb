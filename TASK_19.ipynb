{
  "nbformat": 4,
  "nbformat_minor": 0,
  "metadata": {
    "colab": {
      "name": "TASK 19.ipynb",
      "provenance": [],
      "include_colab_link": true
    },
    "kernelspec": {
      "name": "python3",
      "display_name": "Python 3"
    },
    "language_info": {
      "name": "python"
    }
  },
  "cells": [
    {
      "cell_type": "markdown",
      "metadata": {
        "id": "view-in-github",
        "colab_type": "text"
      },
      "source": [
        "<a href=\"https://colab.research.google.com/github/Alen-8080/Learn.py/blob/main/TASK_19.ipynb\" target=\"_parent\"><img src=\"https://colab.research.google.com/assets/colab-badge.svg\" alt=\"Open In Colab\"/></a>"
      ]
    },
    {
      "cell_type": "markdown",
      "metadata": {
        "id": "6J-6GvX2JUcC"
      },
      "source": [
        "1. Create a DataFrame by passing a random numpy array,with a dateted index and labelled columns and display,\n",
        "  - where values of the column A is greater than 0.\n",
        "  - where values of the columns A is greater than 0 and B greater than -1.\n",
        "  - where values of the columns A  is greater than 0 or B greater than -1.\n"
      ]
    },
    {
      "cell_type": "code",
      "metadata": {
        "id": "xX-5VikpLcHL",
        "outputId": "85b4a8f9-b709-4509-b0b4-60299c95581f",
        "colab": {
          "base_uri": "https://localhost:8080/"
        }
      },
      "source": [
        "#please type your code below this line.\n",
        "import numpy as np\n",
        "import pandas as pd\n",
        "dates = pd.date_range('20210829', periods=6)\n",
        "\n",
        "df = pd.DataFrame(np.random.randn(6, 4), index=dates, columns=list('ABCD'))\n",
        "\n",
        "print(\"DataFrame:\")\n",
        "print(df)\n",
        "print(\"\\n\")\n",
        "\n",
        "print(\"values of the column A is greater than 0\")\n",
        "A = df['A']>0\n",
        "print(df[n])\n",
        "print(\"\\n\")\n",
        "\n",
        "print(\"Values of the columns A is greater than 0 and B greater than -1:\")\n",
        "b = df[(df['A']>0) & (df['B']>-1)]\n",
        "print(b)\n",
        "print(\"\\n\")\n",
        "\n",
        "print(\"where values of the columns A is greater than 0 or B greater than -1\")\n",
        "print(df[(df['A']>0) or (df['B']>-1)])\n",
        "print(\"\\n\")"
      ],
      "execution_count": 27,
      "outputs": [
        {
          "output_type": "stream",
          "name": "stdout",
          "text": [
            "DataFrame:\n",
            "                   A         B         C         D\n",
            "2021-08-29  1.125707  0.903094  0.643513 -1.559307\n",
            "2021-08-30 -1.046898 -0.249763 -0.206554  0.886043\n",
            "2021-08-31 -1.198447 -0.735338 -2.579340 -0.998244\n",
            "2021-09-01  1.920113 -0.279413 -1.941015  0.811730\n",
            "2021-09-02  0.227586  1.199798 -0.291597 -0.105383\n",
            "2021-09-03 -1.160952 -0.005909  0.048327 -0.360853\n",
            "\n",
            "\n",
            "values of the column A is greater than 0\n",
            "                   A         B         C         D\n",
            "2021-08-30 -1.046898 -0.249763 -0.206554  0.886043\n",
            "2021-08-31 -1.198447 -0.735338 -2.579340 -0.998244\n",
            "2021-09-03 -1.160952 -0.005909  0.048327 -0.360853\n",
            "\n",
            "\n",
            "Values of the columns A is greater than 0 and B greater than -1:\n",
            "                   A         B         C         D\n",
            "2021-08-29  1.125707  0.903094  0.643513 -1.559307\n",
            "2021-09-01  1.920113 -0.279413 -1.941015  0.811730\n",
            "2021-09-02  0.227586  1.199798 -0.291597 -0.105383\n",
            "\n",
            "\n",
            "where values of the columns A is greater than 0 or B greater than -1\n",
            "\n",
            "\n"
          ]
        }
      ]
    },
    {
      "cell_type": "markdown",
      "metadata": {
        "id": "1WAf9SbwLp6o"
      },
      "source": [
        "2. Create a DataFrame by passing a random numpy array,with a dateted index and labelled columns and check if ,\n",
        "  - the values of the table are greater the zero or not.\n",
        "  - the value at the postion (0,0) is equal to NaN or not."
      ]
    },
    {
      "cell_type": "code",
      "metadata": {
        "id": "rBrt8pMeM2Q5",
        "outputId": "032ba43b-33a9-4159-e23e-251b718148ce",
        "colab": {
          "base_uri": "https://localhost:8080/"
        }
      },
      "source": [
        "#please type your code below this line.\n",
        "import numpy as np\n",
        "import pandas as pd\n",
        "dates = pd.date_range('20210829', periods=6)\n",
        "\n",
        "df = pd.DataFrame(np.random.randn(6, 4), index=dates, columns=list('ABCD'))\n",
        "\n",
        "print(\"DataFrame:\")\n",
        "print(df)\n",
        "print(\"\\n\")\n",
        "print(\"the values of the table are greater the zero or not\")\n",
        "print(df >0)\n",
        "print(\"\\n\")\n",
        "print(\"value at the postion (0,0) is equal to NaN or not\")\n",
        "a = df.iloc[0:1,0:1]\n",
        "print(a.isnull())"
      ],
      "execution_count": 6,
      "outputs": [
        {
          "output_type": "stream",
          "name": "stdout",
          "text": [
            "DataFrame:\n",
            "                   A         B         C         D\n",
            "2021-08-29  1.101921  0.167332 -0.230303 -0.706277\n",
            "2021-08-30 -0.772099  1.980699 -2.975187  0.296884\n",
            "2021-08-31 -1.031431  0.784561  0.083063  0.380874\n",
            "2021-09-01 -2.180596  0.027250  0.764936 -0.000499\n",
            "2021-09-02  1.115416 -1.173528 -0.753185  0.382992\n",
            "2021-09-03 -0.327171 -0.051281  2.279217 -0.522080\n",
            "\n",
            "\n",
            "the values of the table are greater the zero or not\n",
            "                A      B      C      D\n",
            "2021-08-29   True   True  False  False\n",
            "2021-08-30  False   True  False   True\n",
            "2021-08-31  False   True   True   True\n",
            "2021-09-01  False   True   True  False\n",
            "2021-09-02   True  False  False   True\n",
            "2021-09-03  False  False   True  False\n",
            "\n",
            "\n",
            "value at the postion (0,0) is equal to NaN or not\n",
            "                A\n",
            "2021-08-29  False\n"
          ]
        }
      ]
    },
    {
      "cell_type": "markdown",
      "metadata": {
        "id": "IfM9XYmiNaKB"
      },
      "source": [
        "3. Create a DataFrame by passing a random numpy array,with a dateted index and labelled columns and,\n",
        "  - reindex the index with even dates.\n",
        "  - create a column with values NaN.\n",
        "  - make the values of the first two index of the newly created column as 1"
      ]
    },
    {
      "cell_type": "code",
      "metadata": {
        "id": "F-w8kEfaORg3",
        "outputId": "2a95964b-ef56-4055-8583-0f9ef9f0214b",
        "colab": {
          "base_uri": "https://localhost:8080/"
        }
      },
      "source": [
        "#please type your answer below this line.\n",
        "import numpy as np\n",
        "import pandas as pd\n",
        "dates = pd.date_range('20210828', periods=6)\n",
        "\n",
        "df = pd.DataFrame(np.random.randn(6, 4), index=dates, columns=list('ABCD'))\n",
        "\n",
        "print(\"DataFrame:\")\n",
        "print(df)\n",
        "print(\"\\n\")\n",
        "\n",
        "DF =df.reindex(['2021-08-28', '2021-08-30', '2021-08-02', '2021-08-04', '2021-08-06', '2021-08-08'])\n",
        "print(DF)\n",
        "\n",
        "Df = DF.replace({0: 2} ,value=1)\n",
        "print(Df)"
      ],
      "execution_count": 20,
      "outputs": [
        {
          "output_type": "stream",
          "name": "stdout",
          "text": [
            "DataFrame:\n",
            "                   A         B         C         D\n",
            "2021-08-28 -0.900712  0.723940  1.874767  1.088750\n",
            "2021-08-29  0.066844 -0.547362  0.663083  0.372457\n",
            "2021-08-30 -0.060806  0.585893 -0.168618  0.173980\n",
            "2021-08-31 -1.451659 -0.888678 -0.631591  1.594061\n",
            "2021-09-01  1.354603  2.093198 -0.058179  0.536485\n",
            "2021-09-02 -0.085180  0.721901 -1.375725  0.666551\n",
            "\n",
            "\n",
            "             A   B   C   D\n",
            "2021-08-28 NaN NaN NaN NaN\n",
            "2021-08-30 NaN NaN NaN NaN\n",
            "2021-08-02 NaN NaN NaN NaN\n",
            "2021-08-04 NaN NaN NaN NaN\n",
            "2021-08-06 NaN NaN NaN NaN\n",
            "2021-08-08 NaN NaN NaN NaN\n",
            "             A   B   C   D\n",
            "2021-08-28 NaN NaN NaN NaN\n",
            "2021-08-30 NaN NaN NaN NaN\n",
            "2021-08-02 NaN NaN NaN NaN\n",
            "2021-08-04 NaN NaN NaN NaN\n",
            "2021-08-06 NaN NaN NaN NaN\n",
            "2021-08-08 NaN NaN NaN NaN\n"
          ]
        }
      ]
    }
  ]
}