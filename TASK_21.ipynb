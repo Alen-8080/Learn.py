{
  "nbformat": 4,
  "nbformat_minor": 0,
  "metadata": {
    "colab": {
      "name": "TASK 21.ipynb",
      "provenance": [],
      "include_colab_link": true
    },
    "kernelspec": {
      "name": "python3",
      "display_name": "Python 3"
    },
    "language_info": {
      "name": "python"
    }
  },
  "cells": [
    {
      "cell_type": "markdown",
      "metadata": {
        "id": "view-in-github",
        "colab_type": "text"
      },
      "source": [
        "<a href=\"https://colab.research.google.com/github/Alen-8080/Learn.py/blob/main/TASK_21.ipynb\" target=\"_parent\"><img src=\"https://colab.research.google.com/assets/colab-badge.svg\" alt=\"Open In Colab\"/></a>"
      ]
    },
    {
      "cell_type": "markdown",
      "metadata": {
        "id": "wK9sv7fHTnyo"
      },
      "source": [
        "1.  Using the dataset given below,\n",
        "  - Group the given dataset by A and find the sum of the groups.\n",
        "  - Find the 3 least elements from the column D\n",
        "  - Find the 3 largest elements from the Column D which belongs to the group\n",
        "  'bar'."
      ]
    },
    {
      "cell_type": "code",
      "metadata": {
        "id": "C_Kq4i_rVNyB",
        "outputId": "b882aabb-c639-4d85-926f-d657c2cea250",
        "colab": {
          "base_uri": "https://localhost:8080/"
        }
      },
      "source": [
        "import pandas as pd\n",
        "import numpy as np\n",
        "df = pd.DataFrame({'A' : ['foo', 'bar', 'foo', 'bar',\n",
        "                          'foo', 'bar', 'foo', 'foo'],\n",
        "                   'B' : ['one', 'one', 'two', 'three',\n",
        "                          'two', 'two', 'one', 'three'],\n",
        "                   'C' : np.random.randn(8),\n",
        "                   'D' : np.random.randn(8)})\n",
        "df\n",
        "print(df)\n",
        "#please type your code below this line.\n",
        "A = df.groupby(df['A'])\n",
        "print(\"\\n\")\n",
        "print(\"Sum od dataset grouped by A\")\n",
        "print( A.sum())\n",
        "print(\"\\nThe 3 least elements from the column D:\")\n",
        "print(df.nsmallest(3,'D'))\n",
        "L = df[(df['A']=='bar')]\n",
        "print(\"\\nthe 3 largest elements from the Column D which belongs to the group 'bar'\")\n",
        "print(df.nlargest(3,'D'))"
      ],
      "execution_count": 23,
      "outputs": [
        {
          "output_type": "stream",
          "name": "stdout",
          "text": [
            "     A      B         C         D\n",
            "0  foo    one  0.487303 -0.966228\n",
            "1  bar    one  0.703242  0.477672\n",
            "2  foo    two -0.302746 -1.889881\n",
            "3  bar  three -0.906704 -0.384735\n",
            "4  foo    two -0.376592 -0.586277\n",
            "5  bar    two -0.263407 -0.985890\n",
            "6  foo    one  0.049159  0.609787\n",
            "7  foo  three  0.369101  1.122207\n",
            "\n",
            "\n",
            "Sum od dataset grouped by A\n",
            "            C         D\n",
            "A                      \n",
            "bar -0.466869 -0.892953\n",
            "foo  0.226226 -1.710391\n",
            "\n",
            "The 3 least elements from the column D:\n",
            "     A    B         C         D\n",
            "2  foo  two -0.302746 -1.889881\n",
            "5  bar  two -0.263407 -0.985890\n",
            "0  foo  one  0.487303 -0.966228\n",
            "\n",
            "the 3 largest elements from the Column D which belongs to the group 'bar'\n",
            "     A      B         C         D\n",
            "7  foo  three  0.369101  1.122207\n",
            "6  foo    one  0.049159  0.609787\n",
            "1  bar    one  0.703242  0.477672\n"
          ]
        }
      ]
    },
    {
      "cell_type": "markdown",
      "metadata": {
        "id": "68XLHGsrdHXb"
      },
      "source": [
        "2. Using the dataset given below,\n",
        "  - convert the dataset into a csv file.\n",
        "  - read the csv file just saved\n",
        "  - covert the dataset into a excel file.\n",
        "  - read the excel file just saved."
      ]
    },
    {
      "cell_type": "code",
      "metadata": {
        "id": "J4BOx3UZdVLV",
        "outputId": "83402b6b-7ecc-4775-e638-d6c1b04f5da0",
        "colab": {
          "base_uri": "https://localhost:8080/"
        }
      },
      "source": [
        "import pandas as pd\n",
        "import numpy as np\n",
        "df = pd.DataFrame({'A' : ['foo', 'bar', 'foo', 'bar',\n",
        "                          'foo', 'bar', 'foo', 'foo'],\n",
        "                   'B' : ['one', 'one', 'two', 'three',\n",
        "                          'two', 'two', 'one', 'three'],\n",
        "                   'C' : np.random.randn(8),\n",
        "                   'D' : np.random.randn(8)})\n",
        "#please type your code below this line.\n",
        "df.to_csv(\"dataset.csv\")\n",
        "df2 = pd.read_csv(\"dataset.csv\")\n",
        "print(\"\\nconverted csv file:\")\n",
        "print(df2)\n",
        "df.to_excel(\"dataset.xlsx\")\n",
        "df3 = pd.read_excel(\"dataset.xlsx\")\n",
        "print(\"\\nconverted excel file:\")\n",
        "print(df3)"
      ],
      "execution_count": 27,
      "outputs": [
        {
          "output_type": "stream",
          "name": "stdout",
          "text": [
            "\n",
            "converted csv file:\n",
            "   Unnamed: 0    A      B         C         D\n",
            "0           0  foo    one -2.265565 -0.490354\n",
            "1           1  bar    one  2.379948 -1.622761\n",
            "2           2  foo    two  1.743396 -1.037197\n",
            "3           3  bar  three  1.679676 -1.224991\n",
            "4           4  foo    two -0.960975 -0.466349\n",
            "5           5  bar    two  1.147154 -0.893318\n",
            "6           6  foo    one  0.767246 -0.654123\n",
            "7           7  foo  three  0.360453 -0.579246\n",
            "\n",
            "converted excel file:\n",
            "   Unnamed: 0    A      B         C         D\n",
            "0           0  foo    one -2.265565 -0.490354\n",
            "1           1  bar    one  2.379948 -1.622761\n",
            "2           2  foo    two  1.743396 -1.037197\n",
            "3           3  bar  three  1.679676 -1.224991\n",
            "4           4  foo    two -0.960975 -0.466349\n",
            "5           5  bar    two  1.147154 -0.893318\n",
            "6           6  foo    one  0.767246 -0.654123\n",
            "7           7  foo  three  0.360453 -0.579246\n"
          ]
        }
      ]
    }
  ]
}