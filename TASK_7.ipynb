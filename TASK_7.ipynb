{
  "nbformat": 4,
  "nbformat_minor": 0,
  "metadata": {
    "colab": {
      "name": "TASK  7.ipynb",
      "provenance": [],
      "include_colab_link": true
    },
    "kernelspec": {
      "name": "python3",
      "display_name": "Python 3"
    },
    "language_info": {
      "name": "python"
    }
  },
  "cells": [
    {
      "cell_type": "markdown",
      "metadata": {
        "id": "view-in-github",
        "colab_type": "text"
      },
      "source": [
        "<a href=\"https://colab.research.google.com/github/Alen-8080/Learn.py/blob/main/TASK_7.ipynb\" target=\"_parent\"><img src=\"https://colab.research.google.com/assets/colab-badge.svg\" alt=\"Open In Colab\"/></a>"
      ]
    },
    {
      "cell_type": "markdown",
      "metadata": {
        "id": "b0V3vwzcydKy"
      },
      "source": [
        "1. Write a program to check whether a  string is palindrome or not using functions. \n",
        "\n",
        "   ( A function is to be created to check whether the string is palindrome and it should give the output true or false to the main program)"
      ]
    },
    {
      "cell_type": "code",
      "metadata": {
        "id": "M2Mi7EOdyxiu",
        "outputId": "8722a2e9-6ac1-4445-d78f-c9975570d19f",
        "colab": {
          "base_uri": "https://localhost:8080/"
        }
      },
      "source": [
        "#please enter the code below this line.\n",
        "def palindrome(n):\n",
        "  d = n\n",
        "  s=0\n",
        "  r=0\n",
        "  while (d>0):\n",
        "    r = d%10\n",
        "    s=(s*10)+r\n",
        "    d=d/10\n",
        "  if (s==n):\n",
        "    return False\n",
        "  else:\n",
        "    return True\n",
        "\n",
        "n= int(input(\" Enter a number : \"))\n",
        "print(palindrome(n))\n"
      ],
      "execution_count": 14,
      "outputs": [
        {
          "output_type": "stream",
          "text": [
            " Enter a number : 404\n",
            "True\n"
          ],
          "name": "stdout"
        }
      ]
    },
    {
      "cell_type": "markdown",
      "metadata": {
        "id": "vSiShTyOzEz-"
      },
      "source": [
        "2.  Write a menu driven program to find largest element in L, smallest element, avg of all values, sum of all values in L. All these operation should be performed in different functions and the result should be returned.\n",
        "\n",
        "\n",
        "      L=[23,24,11,90,1,41,9,99,28,56,72]"
      ]
    },
    {
      "cell_type": "code",
      "metadata": {
        "id": "fRtMIw_CzsmO",
        "outputId": "d9d8dab7-0cb0-4572-9eae-7241e078a118",
        "colab": {
          "base_uri": "https://localhost:8080/"
        }
      },
      "source": [
        "#please enter the code below this line.\n",
        "def largest(L,n):\n",
        "  temp = 1;\n",
        "  for i in range(0,n):\n",
        "    if (L[i]>temp):\n",
        "      temp=L[i]\n",
        "  return temp\n",
        "\n",
        "def smallest(L,n):\n",
        "  temp = 1;\n",
        "  for i in range(0,n):\n",
        "    if (L[i]<temp):\n",
        "      temp=L[i]\n",
        "  return temp\n",
        "\n",
        "def sum(L,n):\n",
        "  temp=1;\n",
        "  for i in range(0,n):\n",
        "    temp = temp + L[i]\n",
        "  return temp\n",
        "\n",
        "def avg(L,n):\n",
        "  temp=1;\n",
        "  for i in range(0,n):\n",
        "    temp = temp + L[i]\n",
        "  av = temp/n\n",
        "  return av\n",
        "\n",
        "L = [1, 2, 3, 4, 5, 5, 6, 7]\n",
        "n = len(L)\n",
        "print(largest(L, n))\n",
        "print(smallest(L, n))\n",
        "print(sum(L, n))\n",
        "print(avg(L, n))\n"
      ],
      "execution_count": 23,
      "outputs": [
        {
          "output_type": "stream",
          "text": [
            "7\n",
            "1\n",
            "34\n",
            "4.25\n"
          ],
          "name": "stdout"
        }
      ]
    }
  ]
}