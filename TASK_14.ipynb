{
  "nbformat": 4,
  "nbformat_minor": 0,
  "metadata": {
    "colab": {
      "name": "TASK 14.ipynb",
      "provenance": [],
      "include_colab_link": true
    },
    "kernelspec": {
      "name": "python3",
      "display_name": "Python 3"
    },
    "language_info": {
      "name": "python"
    }
  },
  "cells": [
    {
      "cell_type": "markdown",
      "metadata": {
        "id": "view-in-github",
        "colab_type": "text"
      },
      "source": [
        "<a href=\"https://colab.research.google.com/github/Alen-8080/Learn.py/blob/main/TASK_14.ipynb\" target=\"_parent\"><img src=\"https://colab.research.google.com/assets/colab-badge.svg\" alt=\"Open In Colab\"/></a>"
      ]
    },
    {
      "cell_type": "markdown",
      "metadata": {
        "id": "pDx7KyZoXYNb"
      },
      "source": [
        "1. Create two arrays, one containing elements [1,2], [3,4] and another containing elements [8,18] Now find the solution for this linear equation."
      ]
    },
    {
      "cell_type": "code",
      "metadata": {
        "id": "1HQu2yB2YMbj",
        "outputId": "6e1894ca-d017-4eff-bfca-e8a291dc25db",
        "colab": {
          "base_uri": "https://localhost:8080/"
        }
      },
      "source": [
        "#please type your answer below this line.\n",
        "import numpy as np\n",
        "a = np.array([[1,2],[3,4]])\n",
        "b = np.array([8,18])\n",
        "print(\" Array A\")\n",
        "print(a)\n",
        "print(\" Array B \")\n",
        "print(b)\n",
        "print(\" Solution for linear equation\")\n",
        "print(np.linalg.solve(a,b))"
      ],
      "execution_count": 20,
      "outputs": [
        {
          "output_type": "stream",
          "text": [
            " Array A\n",
            "[[1 2]\n",
            " [3 4]]\n",
            " Array B \n",
            "[ 8 18]\n",
            " Solution for linear equation\n",
            "[2. 3.]\n"
          ],
          "name": "stdout"
        }
      ]
    },
    {
      "cell_type": "markdown",
      "metadata": {
        "id": "RyDr51p8ZxQp"
      },
      "source": [
        "2. Create an array containing elements [2, 3, 4]. Now find the sin,cos,tan values of this array elements."
      ]
    },
    {
      "cell_type": "code",
      "metadata": {
        "id": "iXZByHNOaXbk",
        "outputId": "da2b3ea4-6521-45a6-df41-35038eb850b6",
        "colab": {
          "base_uri": "https://localhost:8080/"
        }
      },
      "source": [
        "#please type your answer below this line.\n",
        "import numpy as np\n",
        "a = np.array([2,3,4])\n",
        "print(\" Array\")\n",
        "print(a)\n",
        "print(\" Sine of array\")\n",
        "print(np.sin(a))\n",
        "print(\" cosine of array\")\n",
        "print(np.cos(a))\n",
        "print(\" tan of array\")\n",
        "print(np.tan(a))"
      ],
      "execution_count": 19,
      "outputs": [
        {
          "output_type": "stream",
          "text": [
            " Array\n",
            "[2 3 4]\n",
            " Sine of array\n",
            "[ 0.90929743  0.14112001 -0.7568025 ]\n",
            " cosine of array\n",
            "[-0.41614684 -0.9899925  -0.65364362]\n",
            " tan of array\n",
            "[-2.18503986 -0.14254654  1.15782128]\n"
          ],
          "name": "stdout"
        }
      ]
    },
    {
      "cell_type": "markdown",
      "metadata": {
        "id": "Itk2DMc6b60J"
      },
      "source": [
        "3. Given b=[5,6], then find,\n",
        "\n",
        "  a) 2sinb\n",
        "  b) 2cos3b\n",
        "  c) 4tan2b"
      ]
    },
    {
      "cell_type": "code",
      "metadata": {
        "id": "lgxpIaKebw5y",
        "outputId": "0b435123-e3b5-4d9f-827e-484361fab9ac",
        "colab": {
          "base_uri": "https://localhost:8080/"
        }
      },
      "source": [
        "#please type your answer below this line.\n",
        "import numpy as np\n",
        "b = np.array([5,6])\n",
        "print(\"Matrix b\")\n",
        "print(b)\n",
        "print(\" 2sinb\")\n",
        "print(2*np.sin(b))\n",
        "print(\" 2cos3b\")\n",
        "print(2*np.cos(3*b))\n",
        "print(\" 4tan2b\")\n",
        "print(4*np.tan(2*b))"
      ],
      "execution_count": 18,
      "outputs": [
        {
          "output_type": "stream",
          "text": [
            "Matrix b\n",
            "[5 6]\n",
            " 2sinb\n",
            "[-1.91784855 -0.558831  ]\n",
            " 2cos3b\n",
            "[-1.51937583  1.32063342]\n",
            " 4tan2b\n",
            "[ 2.59344331 -2.54343971]\n"
          ],
          "name": "stdout"
        }
      ]
    }
  ]
}