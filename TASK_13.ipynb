{
  "nbformat": 4,
  "nbformat_minor": 0,
  "metadata": {
    "colab": {
      "name": "TASK 13.ipynb",
      "provenance": [],
      "include_colab_link": true
    },
    "kernelspec": {
      "name": "python3",
      "display_name": "Python 3"
    },
    "language_info": {
      "name": "python"
    }
  },
  "cells": [
    {
      "cell_type": "markdown",
      "metadata": {
        "id": "view-in-github",
        "colab_type": "text"
      },
      "source": [
        "<a href=\"https://colab.research.google.com/github/Alen-8080/Learn.py/blob/main/TASK_13.ipynb\" target=\"_parent\"><img src=\"https://colab.research.google.com/assets/colab-badge.svg\" alt=\"Open In Colab\"/></a>"
      ]
    },
    {
      "cell_type": "markdown",
      "metadata": {
        "id": "RUSoRkrOqNwf"
      },
      "source": [
        "1. Create a 3x3 array values ranging from 0-8.Find the sum of the elements in this array."
      ]
    },
    {
      "cell_type": "code",
      "metadata": {
        "id": "t01ATYQpqq8u",
        "outputId": "77b8a4b5-edce-4dfd-8765-4f71262b6872",
        "colab": {
          "base_uri": "https://localhost:8080/"
        }
      },
      "source": [
        "#please enter your code below this line.\n",
        "import numpy as np\n",
        "a= np.arange(0,9).reshape(3,3)\n",
        "print(np.sum(a))"
      ],
      "execution_count": 2,
      "outputs": [
        {
          "output_type": "stream",
          "text": [
            "36\n"
          ],
          "name": "stdout"
        }
      ]
    },
    {
      "cell_type": "markdown",
      "metadata": {
        "id": "k3Y7nQF7r3IW"
      },
      "source": [
        "2. Create a 3x3 array values ranging from 0-8.Find the row sum and column sum of this array."
      ]
    },
    {
      "cell_type": "code",
      "metadata": {
        "id": "BzvIlWfvsICv",
        "outputId": "bcdea52e-e1c2-48ba-fa28-69d068b161ab",
        "colab": {
          "base_uri": "https://localhost:8080/"
        }
      },
      "source": [
        "#please enter your code below this line.\n",
        "import numpy as np\n",
        "a = np.arange(0,9).reshape(3,3)\n",
        "print(\" MAtrix \")\n",
        "print(a)\n",
        "print(\" Row wise Sum\")\n",
        "print(np.sum(a,axis=0))\n",
        "print(\" column Wise Sum\")\n",
        "print(np.sum(a,axis=1))"
      ],
      "execution_count": 5,
      "outputs": [
        {
          "output_type": "stream",
          "text": [
            " MAtrix \n",
            "[[0 1 2]\n",
            " [3 4 5]\n",
            " [6 7 8]]\n",
            " Row wise Sum\n",
            "[ 9 12 15]\n",
            " column Wise Sum\n",
            "[ 3 12 21]\n"
          ],
          "name": "stdout"
        }
      ]
    },
    {
      "cell_type": "markdown",
      "metadata": {
        "id": "KOPMsbnrsgue"
      },
      "source": [
        "3. Create a 4x4 array values ranging from 0-15. Now,\n",
        "\n",
        "    a) Find the mininmum value in the array.\n",
        "    \n",
        "    b) Find the maximum value in the array.\n",
        "\n",
        "    c) Find the mean of the values in the array."
      ]
    },
    {
      "cell_type": "code",
      "metadata": {
        "id": "1UzITxp3WDaW",
        "outputId": "5f18f548-da3a-4bdf-feab-9442ed5a3c15",
        "colab": {
          "base_uri": "https://localhost:8080/"
        }
      },
      "source": [
        "#please enter your code belowthis line.\n",
        "import numpy as np\n",
        "a = np.arange(0,16).reshape(4,4)\n",
        "print(\" Matrix\")\n",
        "print(a)\n",
        "print(\"Minimum Value in Matrix\")\n",
        "print(np.min(a))\n",
        "print(\"Maximum Value in Matrix\")\n",
        "print(np.max(a))\n",
        "print(\"Mean of Matrix\")\n",
        "print(np.mean(a))"
      ],
      "execution_count": 30,
      "outputs": [
        {
          "output_type": "stream",
          "text": [
            " Matrix\n",
            "[[ 0  1  2  3]\n",
            " [ 4  5  6  7]\n",
            " [ 8  9 10 11]\n",
            " [12 13 14 15]]\n",
            "\n",
            "Minimum Value in Matrix\n",
            "0\n",
            "Maximum Value in Matrix\n",
            "15\n",
            "Mean of Matrix\n",
            "7.5\n"
          ],
          "name": "stdout"
        }
      ]
    },
    {
      "cell_type": "markdown",
      "metadata": {
        "id": "Pah9qGButoz2"
      },
      "source": [
        "4. Create an 10x10 array values ranging from 0-99.And ,\n",
        "\n",
        "    a) Print the 7th row.\n",
        "    \n",
        "    b) Print the rows from 4-8.\n",
        "\n",
        "    c) Print the value at the index 5,5.\n",
        "\n",
        "    d) Print the 5th colomn.\n",
        "\n",
        "    e) Print the columns from 2-5."
      ]
    },
    {
      "cell_type": "code",
      "metadata": {
        "id": "JFXPq0GkvhKi",
        "outputId": "425d25b0-1029-46bf-f956-776f4f45d643",
        "colab": {
          "base_uri": "https://localhost:8080/"
        }
      },
      "source": [
        "#please enter your code below this line.\n",
        "import numpy as np\n",
        "a = np.arange(0,100).reshape(10,10)\n",
        "print(\"matrix\")\n",
        "print(a)\n",
        "print(\"\\n seventh Row\")\n",
        "print(a[7])\n",
        "print(\" \\nRows from 4-8\")\n",
        "print(a[4:9,:])\n",
        "print(\"\\n 5 th column\")\n",
        "print(a[:,5])\n",
        "print(\"\\n columns from 2 - 5\")\n",
        "print(a[:,2:5])"
      ],
      "execution_count": 31,
      "outputs": [
        {
          "output_type": "stream",
          "text": [
            "matrix\n",
            "[[ 0  1  2  3  4  5  6  7  8  9]\n",
            " [10 11 12 13 14 15 16 17 18 19]\n",
            " [20 21 22 23 24 25 26 27 28 29]\n",
            " [30 31 32 33 34 35 36 37 38 39]\n",
            " [40 41 42 43 44 45 46 47 48 49]\n",
            " [50 51 52 53 54 55 56 57 58 59]\n",
            " [60 61 62 63 64 65 66 67 68 69]\n",
            " [70 71 72 73 74 75 76 77 78 79]\n",
            " [80 81 82 83 84 85 86 87 88 89]\n",
            " [90 91 92 93 94 95 96 97 98 99]]\n",
            "\n",
            " seventh Row\n",
            "[70 71 72 73 74 75 76 77 78 79]\n",
            " \n",
            "Rows from 4-8\n",
            "[[40 41 42 43 44 45 46 47 48 49]\n",
            " [50 51 52 53 54 55 56 57 58 59]\n",
            " [60 61 62 63 64 65 66 67 68 69]\n",
            " [70 71 72 73 74 75 76 77 78 79]\n",
            " [80 81 82 83 84 85 86 87 88 89]]\n",
            "\n",
            " 5 th column\n",
            "[ 5 15 25 35 45 55 65 75 85 95]\n",
            "\n",
            " columns from 2 - 5\n",
            "[[ 2  3  4]\n",
            " [12 13 14]\n",
            " [22 23 24]\n",
            " [32 33 34]\n",
            " [42 43 44]\n",
            " [52 53 54]\n",
            " [62 63 64]\n",
            " [72 73 74]\n",
            " [82 83 84]\n",
            " [92 93 94]]\n"
          ],
          "name": "stdout"
        }
      ]
    }
  ]
}