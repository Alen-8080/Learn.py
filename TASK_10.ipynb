{
  "nbformat": 4,
  "nbformat_minor": 0,
  "metadata": {
    "colab": {
      "name": "TASK 10.ipynb",
      "provenance": [],
      "include_colab_link": true
    },
    "kernelspec": {
      "name": "python3",
      "display_name": "Python 3"
    },
    "language_info": {
      "name": "python"
    }
  },
  "cells": [
    {
      "cell_type": "markdown",
      "metadata": {
        "id": "view-in-github",
        "colab_type": "text"
      },
      "source": [
        "<a href=\"https://colab.research.google.com/github/Alen-8080/Learn.py/blob/main/TASK_10.ipynb\" target=\"_parent\"><img src=\"https://colab.research.google.com/assets/colab-badge.svg\" alt=\"Open In Colab\"/></a>"
      ]
    },
    {
      "cell_type": "markdown",
      "metadata": {
        "id": "VHKxwUewxOi2"
      },
      "source": [
        "1. Generate two  3 x 3 matrix and find it's dot product and take the transpose of the answer."
      ]
    },
    {
      "cell_type": "code",
      "metadata": {
        "id": "RdyKd1CAxZtR",
        "outputId": "af5db0fa-3a69-4024-ed73-f6ab15a61317",
        "colab": {
          "base_uri": "https://localhost:8080/"
        }
      },
      "source": [
        "#please provide your answer below this line.\n",
        "import numpy as np\n",
        "a = np.arange(0, 9).reshape(3, 3)\n",
        "b = np.arange(1, 10).reshape(3, 3)\n",
        "print(\" Matrix A\")\n",
        "print(a)\n",
        "print(\" Matrix B\")\n",
        "print(b)\n",
        "dot = np.dot(a, b)\n",
        "print(\"Dot product of Matrix\")\n",
        "print(dot)\n",
        "print(\"Transpose of Dot product\")\n",
        "print(dot.T)"
      ],
      "execution_count": 14,
      "outputs": [
        {
          "output_type": "stream",
          "text": [
            " Matrix A\n",
            "[[0 1 2]\n",
            " [3 4 5]\n",
            " [6 7 8]]\n",
            " Matrix B\n",
            "[[1 2 3]\n",
            " [4 5 6]\n",
            " [7 8 9]]\n",
            "Dot product of Matrix\n",
            "[[ 18  21  24]\n",
            " [ 54  66  78]\n",
            " [ 90 111 132]]\n",
            "Transpose of Dot product\n",
            "[[ 18  54  90]\n",
            " [ 21  66 111]\n",
            " [ 24  78 132]]\n"
          ],
          "name": "stdout"
        }
      ]
    },
    {
      "cell_type": "markdown",
      "metadata": {
        "id": "9c9ZwiBxxf4t"
      },
      "source": [
        "2. Create a 3x3 matrix with elements [55,25,15], [30,44,2], [11,45,77] . Now find the determinant of the given matrix."
      ]
    },
    {
      "cell_type": "code",
      "metadata": {
        "id": "Anmr3C9KyNyy",
        "outputId": "47c26601-6537-4f8b-cbd8-7b3d0ac83acf",
        "colab": {
          "base_uri": "https://localhost:8080/"
        }
      },
      "source": [
        "#please provide your answer below this line.\n",
        "import numpy as np\n",
        "A = [[55,25,15],[30,44,2],[11,45,77]]\n",
        "a= np.array(A)\n",
        "print(\"Matrix A \")\n",
        "print(a)\n",
        "print(\"Determinant of A\")\n",
        "print(np.linalg.det(a))"
      ],
      "execution_count": 25,
      "outputs": [
        {
          "output_type": "stream",
          "text": [
            "Matrix A \n",
            "[[55 25 15]\n",
            " [30 44  2]\n",
            " [11 45 77]]\n",
            "Determinant of A\n",
            "137180.0000000001\n"
          ],
          "name": "stdout"
        }
      ]
    }
  ]
}